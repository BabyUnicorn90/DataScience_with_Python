{
 "cells": [
  {
   "cell_type": "code",
   "execution_count": 2,
   "metadata": {},
   "outputs": [
    {
     "name": "stdout",
     "output_type": "stream",
     "text": [
      "SUCCESS\n"
     ]
    }
   ],
   "source": [
    "from urllib.request import urlopen\n",
    "from bs4 import BeautifulSoup\n",
    "\n",
    "req = urlopen(\"https://news.daum.net/\")\n",
    "#print(\"응답 코드: \", req.getcode())    # >>200: 성공! \n",
    "\n",
    "if req.getcode() == 200: \n",
    "    #코드받아오기\n",
    "    html = req.read()\n",
    "    html = html.decode(\"utf-8\")\n",
    "    print(\"SUCCESS\")\n",
    "else: \n",
    "    print(\"HTTP=ERROR\")"
   ]
  },
  {
   "cell_type": "code",
   "execution_count": 5,
   "metadata": {},
   "outputs": [
    {
     "name": "stdout",
     "output_type": "stream",
     "text": [
      "문서제목:  홈 | 다음뉴스\n"
     ]
    }
   ],
   "source": [
    "# text -> html dom으로 변경\n",
    "soup = BeautifulSoup(html, \"html.parser\")\n",
    "#print(soup.prettify())\n",
    "\n",
    "#문서정보 확인하기\n",
    "print(\"문서제목: \", soup.title.text)"
   ]
  }
 ],
 "metadata": {
  "kernelspec": {
   "display_name": "Python 3",
   "language": "python",
   "name": "python3"
  },
  "language_info": {
   "codemirror_mode": {
    "name": "ipython",
    "version": 3
   },
   "file_extension": ".py",
   "mimetype": "text/x-python",
   "name": "python",
   "nbconvert_exporter": "python",
   "pygments_lexer": "ipython3",
   "version": "3.7.3"
  }
 },
 "nbformat": 4,
 "nbformat_minor": 4
}
