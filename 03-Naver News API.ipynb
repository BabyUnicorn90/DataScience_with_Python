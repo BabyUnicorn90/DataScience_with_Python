{
 "cells": [
  {
   "cell_type": "code",
   "execution_count": 3,
   "metadata": {},
   "outputs": [
    {
     "name": "stdout",
     "output_type": "stream",
     "text": [
      "API 요청 URL:  https://openapi.naver.com/v1/search/news.json?query=%EC%BD%94%EB%A1%9C%EB%82%98\n",
      "성공\n"
     ]
    }
   ],
   "source": [
    "from urllib.request import Request\n",
    "from urllib.parse import quote\n",
    "import urllib\n",
    "\n",
    "#요청을 위한 ID와 SECRET\n",
    "\n",
    "client_id = \"TGCGTuqsrcBn3pE8i1hg\"\n",
    "client_secret = \"6oKKQnOeHn\"\n",
    "\n",
    "#검색어 인코딩\n",
    "enc_text = quote(\"코로나\")\n",
    "url = \"https://openapi.naver.com/v1/search/news.json?query={}\".format(enc_text)\n",
    "print(\"API 요청 URL: \", url)\n",
    "\n",
    "#요청 생성\n",
    "req = Request(url)\n",
    "\n",
    "#API접근을 위한 인증정보를 header에 수록\n",
    "req.add_header(\"X-Naver-Client-Id\", client_id)\n",
    "req.add_header(\"X-Naver-Client-Secret\", client_secret)\n",
    "\n",
    "#응답받기\n",
    "resp = urllib.request.urlopen(req)\n",
    "\n",
    "respcode = resp.getcode()\n",
    "\n",
    "if respcode == 200:    #성공!\n",
    "    resp_body = resp.read().decode(\"utf-8\")\n",
    "    print(\"성공\")\n",
    "else: \n",
    "    print(\"HTTP-Error: %d\" % respcode)"
   ]
  },
  {
   "cell_type": "code",
   "execution_count": 20,
   "metadata": {},
   "outputs": [
    {
     "name": "stdout",
     "output_type": "stream",
     "text": [
      "<<네이버 뉴스 검색결과>>\n",
      "*순연됐던 전국체전 개최 일정 확정\n",
      "\t- https://www.sedaily.com/NewsView/1Z90Z9BEMP\n",
      "*경기관광공사 호텔 숙박권 최대 70% 지원\n",
      "\t- http://www.edaily.co.kr/news/newspath.asp?newsid=03171766625930296\n",
      "*[속보] 방역당국 “코로나19 경증환자 자가치료 정밀지침 개발 중”\n",
      "\t- https://www.sedaily.com/NewsView/1Z90ZRIQ8C\n",
      "*진에어 인천→칭다오 임시편 15일 운영\n",
      "\t- http://news.heraldcorp.com/view.php?ud=20201006000790\n",
      "*서울 아파트 거래량 '반토막'... 강남보다 강북 더 심각\n",
      "\t- https://www.news1.kr/photos/view/?4413427\n",
      "*광화문 집회 막은 경찰, ‘이석기 석방 집회’는 또 허용… 형평성 논란\n",
      "\t- https://biz.chosun.com/site/data/html_dir/2020/10/06/2020100601911.html?utm_source=naver&utm_medium=original&utm_campaign=biz\n",
      "*[울산소식]롯데호텔, 다문화 가정 숙박권 전달 등\n",
      "\t- http://www.newsis.com/view/?id=NISX20201006_0001188245&cID=10899&pID=10800\n",
      "*세종지역화폐 여민전 판매 1000억 돌파\n",
      "\t- http://www.newstown.co.kr/news/articleView.html?idxno=470832\n",
      "*브람스의 계절 가을에 듣는 교향곡…대구시립교향악단 제466회 정기연주회 열...\n",
      "\t- http://www.idaegu.com/newsView/idg202010060021\n",
      "*대구광역시 주무관이 만든 트롯가수 통키, \"열정이 뜨거운 도시 대구를 노래하...\n",
      "\t- http://www.gukjenews.com/news/articleView.html?idxno=2085027\n"
     ]
    }
   ],
   "source": [
    "#응답의 확인\n",
    "#print(resp_body)\n",
    "\n",
    "#json text -> json object (dict)\n",
    "import json \n",
    "from html import unescape    #html 특수문자(ex. &quote:) -> 원래 문자로\n",
    "\n",
    "json_obj = json.loads(resp_body)\n",
    "#print(\"JSON: \", json_obj, type(json_obj))\n",
    "\n",
    "json_items = json_obj['items']\n",
    "#print(json_items)\n",
    "\n",
    "#title과 description내의 태그 제거하기\n",
    "import re\n",
    "def remove_tag(html):    #태그제거용 함수\n",
    "    \n",
    "    tag_pattern = re.compile(r\"<[^>]+>\")\n",
    "    return tag_pattern.sub('', unescape(html))\n",
    "    \n",
    "\n",
    "news_list = []\n",
    "for item in json_items:\n",
    "    news = {\n",
    "        \"title\": remove_tag(item['title']),\n",
    "        \"link\": item['originallink'],\n",
    "        \"description\": remove_tag(item['description'])\n",
    "    }\n",
    "    news_list.append(news)\n",
    "\n",
    "print(\"<<네이버 뉴스 검색결과>>\")\n",
    "for news in news_list:\n",
    "    print(\"*{}\\n\\t- {}\".format(news['title'], news['link']))\n"
   ]
  }
 ],
 "metadata": {
  "kernelspec": {
   "display_name": "Python 3",
   "language": "python",
   "name": "python3"
  },
  "language_info": {
   "codemirror_mode": {
    "name": "ipython",
    "version": 3
   },
   "file_extension": ".py",
   "mimetype": "text/x-python",
   "name": "python",
   "nbconvert_exporter": "python",
   "pygments_lexer": "ipython3",
   "version": "3.7.3"
  }
 },
 "nbformat": 4,
 "nbformat_minor": 4
}
