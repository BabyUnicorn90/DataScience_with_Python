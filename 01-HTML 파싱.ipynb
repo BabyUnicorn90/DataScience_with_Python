{
 "cells": [
  {
   "cell_type": "markdown",
   "metadata": {},
   "source": [
    "# BeautifulSoup을 이용한 HTML 문서의 파싱\n",
    "-BeautifulSoup을 이용하면 텍스트 html을 DOM Tree형태로 변환해준다."
   ]
  },
  {
   "cell_type": "code",
   "execution_count": 2,
   "metadata": {},
   "outputs": [],
   "source": [
    "from bs4 import BeautifulSoup     #모듈로드"
   ]
  },
  {
   "cell_type": "code",
   "execution_count": 4,
   "metadata": {},
   "outputs": [
    {
     "name": "stdout",
     "output_type": "stream",
     "text": [
      "<!DOCTYPE html>\n",
      "<html lang=\"en\">\n",
      "<head>\n",
      "    <meta charset=\"UTF-8\">\n",
      "    <meta name=\"viewport\" content=\"width=device-width, initial-scale=1.0\">\n",
      "    <title>Sample HTML Page</title>\n",
      "</head>\n",
      "<body>\n",
      "    <div id=\"header\">\n",
      "        <h1>Sample Homepage</h1>\n",
      "        <ul class=\"nav\">\n",
      "            <li>home</li>\n",
      "            <li>About</li>\n",
      "            <li>Contact</li>\n",
      "        </ul>\n",
      "    </div>\n",
      "    <div id=\"content\">\n",
      "        <h1>Content Title</h1>\n",
      "        <p>Lorem ipsum dolor sit amet, consectetur adipiscing elit. Phasellus interdum.</p>\n",
      "        <ul class=\"list\">\n",
      "            <li>Comment 1</li>\n",
      "            <li>Comment 2</li>\n",
      "            <li>Comment 3</li>\n",
      "            <li>Comment 4</li>\n",
      "        </ul>\n",
      "    </div>\n",
      "    <div id=\"footer\">\n",
      "        &copy; Bit Academy\n",
      "    </div>\n",
      "</body>\n",
      "</html>\n"
     ]
    }
   ],
   "source": [
    "#샘플 html 로드\n",
    "with open(\"./data/sample.html\") as f:\n",
    "    html_str = f.read()\n",
    "    \n",
    "print(html_str)"
   ]
  },
  {
   "cell_type": "code",
   "execution_count": 6,
   "metadata": {},
   "outputs": [
    {
     "name": "stdout",
     "output_type": "stream",
     "text": [
      "<class 'bs4.BeautifulSoup'>\n",
      "타이틀태그:  <title>Sample HTML Page</title> <class 'bs4.element.Tag'>\n",
      "태그의 이름:  title\n",
      "태그의 내용(content):  Sample HTML Page\n"
     ]
    }
   ],
   "source": [
    "soup = BeautifulSoup(html_str)   # DOM Tree형태로 변환 \n",
    "print(type(soup))                # >>bs4.BeautifulSoup\n",
    "\n",
    "#title tag 확인\n",
    "title_tag = soup.title\n",
    "print(\"타이틀태그: \", title_tag, type(title_tag))   # >>type: bs4.element.Tag\n",
    "print(\"태그의 이름: \", title_tag.name)\n",
    "print(\"태그의 내용(content): \", title_tag.text)"
   ]
  },
  {
   "cell_type": "code",
   "execution_count": 14,
   "metadata": {},
   "outputs": [
    {
     "name": "stdout",
     "output_type": "stream",
     "text": [
      "html_tag:  html\n",
      "html의 childeren:  <list_iterator object at 0x000001F4C315AFD0>\n",
      "child:  head\n",
      "child:  body\n",
      "body의 자손 노드:  div\n",
      "body의 자손 노드:  h1\n",
      "body의 자손 노드:  ul\n",
      "body의 자손 노드:  li\n",
      "body의 자손 노드:  li\n",
      "body의 자손 노드:  li\n",
      "body의 자손 노드:  div\n",
      "body의 자손 노드:  h1\n",
      "body의 자손 노드:  p\n",
      "body의 자손 노드:  ul\n",
      "body의 자손 노드:  li\n",
      "body의 자손 노드:  li\n",
      "body의 자손 노드:  li\n",
      "body의 자손 노드:  li\n",
      "body의 자손 노드:  div\n",
      "True\n"
     ]
    }
   ],
   "source": [
    "# html의 최상위 노드는 html!\n",
    "html_tag = soup.html\n",
    "print(\"html_tag: \", html_tag.name)\n",
    "\n",
    "# html노드의 자식 확인: children\n",
    "children = html_tag.children\n",
    "print(\"html의 childeren: \", children)\n",
    "\n",
    "from bs4.element import Tag\n",
    "# 자식 노드의 순회\n",
    "for child in children:\n",
    "    # print(type(child))     \n",
    "    # >>navigableString은 Tree구조를 완성시키기 위한 특수 구분기호\n",
    "    # >>Tag가 우리가 파싱하기 위한 실제 내용 \n",
    "    \n",
    "    if isinstance(child, Tag):   #Tag만 필터링\n",
    "        print(\"child: \", child.name)\n",
    "\n",
    "# body 태그는 여러 개의 자손들을 가지고 있을 것\n",
    "for node in soup.body.descendants:\n",
    "    if isinstance(node, Tag):\n",
    "        print(\"body의 자손 노드: \", node.name)\n",
    "        \n",
    "# 부모 노드 확인: parent\n",
    "print(soup.body.parent == soup.html)  # >> true여야함"
   ]
  },
  {
   "cell_type": "markdown",
   "metadata": {},
   "source": [
    "# -트리탐색하기"
   ]
  },
  {
   "cell_type": "code",
   "execution_count": 17,
   "metadata": {},
   "outputs": [
    {
     "name": "stdout",
     "output_type": "stream",
     "text": [
      "html 내에 3개의 div가 있습니다.\n"
     ]
    }
   ],
   "source": [
    "# 검색하기: find\n",
    "# 문서 내 div 태그 찾아보기\n",
    "#divs = soup.body.find(\"div\")    # --find는 1 요소만 검색\n",
    "divs = soup.body.findAll(\"div\")    # --findAll은 매칭되는 모든 요소 검색\n",
    "#print(divs)\n",
    "print(\"html 내에 {}개의 div가 있습니다.\".format(len(divs)))"
   ]
  },
  {
   "cell_type": "code",
   "execution_count": 19,
   "metadata": {},
   "outputs": [
    {
     "name": "stdout",
     "output_type": "stream",
     "text": [
      "<ul class=\"list\">\n",
      "<li>Comment 1</li>\n",
      "<li>Comment 2</li>\n",
      "<li>Comment 3</li>\n",
      "<li>Comment 4</li>\n",
      "</ul>\n",
      "list item:  Comment 1\n",
      "list item:  Comment 2\n",
      "list item:  Comment 3\n",
      "list item:  Comment 4\n"
     ]
    }
   ],
   "source": [
    "# 속성을 가진 요소 검색하기\n",
    "# class가 list인 ul 검색, 내부 자식노드 내용 출력하기\n",
    "list_ul = soup.body.find(\"ul\", { \"class\" : \"list\"})\n",
    "print(list_ul)     #>>출력값들이 ul의 children \n",
    "\n",
    "for li in list_ul.children:\n",
    "    if isinstance(li, Tag):\n",
    "        print(\"list item: \", li.text)"
   ]
  },
  {
   "cell_type": "code",
   "execution_count": 20,
   "metadata": {},
   "outputs": [
    {
     "name": "stdout",
     "output_type": "stream",
     "text": [
      "[<li>Comment 1</li>, <li>Comment 2</li>, <li>Comment 3</li>, <li>Comment 4</li>]\n"
     ]
    }
   ],
   "source": [
    "# 좀 더 편리하고 유연하게 노드 검색하기: CSS Selector\n",
    "# class가 list인 ul의 모든 자식들 검색하기 \n",
    "# selector 정리: \n",
    "#     -id: #id\n",
    "#     -class: .class\n",
    "#     -children: >\n",
    "#     -자손:    (공백)\n",
    "list_ul_children = soup.body.select(\"ul.list > li\")\n",
    "print(list_ul_children)"
   ]
  }
 ],
 "metadata": {
  "kernelspec": {
   "display_name": "Python 3",
   "language": "python",
   "name": "python3"
  },
  "language_info": {
   "codemirror_mode": {
    "name": "ipython",
    "version": 3
   },
   "file_extension": ".py",
   "mimetype": "text/x-python",
   "name": "python",
   "nbconvert_exporter": "python",
   "pygments_lexer": "ipython3",
   "version": "3.7.3"
  }
 },
 "nbformat": 4,
 "nbformat_minor": 4
}
