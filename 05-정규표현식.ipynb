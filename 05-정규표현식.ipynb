{
 "cells": [
  {
   "cell_type": "markdown",
   "metadata": {},
   "source": [
    "### 정규표현식\n",
    "\n",
    "##사용방법\n",
    "1. 패턴 컴파일 \n",
    "2. 패턴 객체 가진 메서드로 매칭/치환 \n",
    "3. 패턴 문자열은 접두어r 붙이기 (raw string으로 만들기)\n",
    "\n",
    "##중요패턴 메타문자\n",
    "- \\d: 숫자 [0-9]\n",
    "- \\D: 숫자 아님 [^0-9]\n",
    "- Ws: 화이트스페이스 [\\t\\n\\r\\f\\v]\n",
    "- WS: 화이트스페이스 아님 [^\\t\\n\\r\\f\\v]\n",
    "- \\w: 문자&숫자&_ [a-zA-Z0-9_]\n",
    "- \\W: 문자&숫자&_ 아님 [^a-zA-Z0-9_]\n",
    "- []: 문자 1개의 패턴\n",
    "- {시작, 끝}: 앞의 문자가 몇개 반복되는지 길이 제한\n",
    "- *: 0개 이상 (없을 수 있다)\n",
    "- +: 1개 이상"
   ]
  },
  {
   "cell_type": "markdown",
   "metadata": {},
   "source": [
    "# 검색하기: re.match(), re.search()"
   ]
  },
  {
   "cell_type": "code",
   "execution_count": 1,
   "metadata": {},
   "outputs": [
    {
     "name": "stdout",
     "output_type": "stream",
     "text": [
      "None\n",
      "<re.Match object; span=(0, 4), match='Life'>\n",
      "MATCH: [a-z]+ 가 있습니까? None\n",
      "MATCH: [a-zA-Z]+ 가 있습니까? <re.Match object; span=(0, 4), match='Life'>\n",
      "Life\n"
     ]
    }
   ],
   "source": [
    "#매칭작업: re.match(r\"\", (문자열)) \n",
    "#  --문자열의 첫 시작 단어부터 매치하는지 확인\n",
    "import re\n",
    "\n",
    "source = \"Life is too short, you need Python\"\n",
    "\n",
    "#방법 1: 컴파일 후 매칭\n",
    "p = re.compile(r\"P[a-z]+\")    #대문자P로 시작하고 소문자a-z가 1개 이상 있는가? \n",
    "print(p.match(source))        #매칭되지 않음 --match()는 해당 문자열의 첫 시작 단어의 매칭여부 반환\n",
    "\n",
    "p = re.compile(r\"L[a-z]+\")    #대문자L로 시작하고 소문자a-z가 1개 이상 있는가? \n",
    "print(p.match(source))        #매칭 --span 영역으로 해당 문자열 길이/위치 확인 가능 \n",
    "\n",
    "#방법 2: 축약형\n",
    "print(\"MATCH: [a-z]+ 가 있습니까?\", re.match(r\"[a-z]+\", source))   #매칭되지 않음\n",
    "print(\"MATCH: [a-zA-Z]+ 가 있습니까?\", re.match(r\"[a-zA-Z]+\", source))   #매칭\n",
    "\n",
    "#매치된 내용은 group메서드로 추출 可: re.match().group()\n",
    "print(re.match(r\"[a-zA-Z]+\", source).group())"
   ]
  },
  {
   "cell_type": "code",
   "execution_count": 8,
   "metadata": {},
   "outputs": [
    {
     "name": "stdout",
     "output_type": "stream",
     "text": [
      "<re.Match object; span=(7, 13), match='Python'>\n",
      "Python\n",
      "None\n",
      "Python\n"
     ]
    }
   ],
   "source": [
    "#서치작업: re.search(r\"\", (문자열)) \n",
    "#  --문자열 전체에서 패턴문자열과 일치하는 내용 확인\n",
    "\n",
    "source = \"Hello, Python\"\n",
    "\n",
    "#내부에서 Python 찾기 \n",
    "print(re.search(r\"Python\", source))\n",
    "print(re.search(r\"Python\", source).group())\n",
    "\n",
    "#기본적으로 정규표현식은 대소문자를 구분한다. \n",
    "#대소문자 구분 무효화: re.IGNORECASE\n",
    "print(re.search(r\"python\", source))                     #매칭되지 않음 \n",
    "print(re.search(r\"Python\", source, re.IGNORECASE).group())      #대소문자 구별 무효화. 매칭됨"
   ]
  },
  {
   "cell_type": "markdown",
   "metadata": {},
   "source": [
    "# 추출하기: re.findall(), finditer()"
   ]
  },
  {
   "cell_type": "code",
   "execution_count": 15,
   "metadata": {},
   "outputs": [
    {
     "name": "stdout",
     "output_type": "stream",
     "text": [
      "findall():  ['Paint', 'Perl', 'Python']\n",
      "finditer():  <callable_iterator object at 0x0000019B96ED90F0>\n",
      "finditer로 매칭된 문자열 출력: Paint\n",
      "finditer로 매칭된 문자열 출력: Perl\n",
      "finditer로 매칭된 문자열 출력: Python\n"
     ]
    }
   ],
   "source": [
    "source = \"Paint C JavaScript 123 Perl Java Python Ruby\"\n",
    "\n",
    "#p로 시작하고 뒤에 소문자가 붙은 단어 추출하기\n",
    "\n",
    "#방법 1: re.findall((패턴), (문자열), (옵션))   --매칭된 모든 문자열을 리스트로 반환\n",
    "words_findall = re.findall(r\"\\bp\\w+\", source, re.IGNORECASE)\n",
    "print(\"findall(): \", words_findall)\n",
    "#print(\"findall(): \", words_findall.group())   --findall()과 group() 동시사용 不\n",
    "\n",
    "#방법 2: re.finditer((패턴), (문자열), (옵션))\n",
    "#findall()로 매칭되는 문자열이 많을 경우 메모리낭비 초래 --> finditer() 사용\n",
    "words_finditer = re.finditer(r\"\\bp\\w+\", source, re.IGNORECASE)\n",
    "print(\"finditer(): \", words_finditer)   #반복문을  통해 매칭된 문자열 출력 可\n",
    "\n",
    "for x in words_finditer:\n",
    "    print(\"finditer로 매칭된 문자열 출력:\", x.group())"
   ]
  },
  {
   "cell_type": "code",
   "execution_count": 16,
   "metadata": {},
   "outputs": [
    {
     "name": "stdout",
     "output_type": "stream",
     "text": [
      "['대한민국', '세종대왕', '훈민정음']\n"
     ]
    }
   ],
   "source": [
    "#한글 정규식 패턴: [ㄱ-힣]로 컴파일 -> re.findall()\n",
    "source = \"Englnad 대한민국 Japan 세종대왕 China 훈민정음\"\n",
    "\n",
    "p = re.compile(r\"[ㄱ-힣]+\")      #Unicode\n",
    "print(p.findall(source)) "
   ]
  },
  {
   "cell_type": "markdown",
   "metadata": {},
   "source": [
    "# 예제: 전화번호 매칭, 이메일 매칭"
   ]
  },
  {
   "cell_type": "code",
   "execution_count": 21,
   "metadata": {},
   "outputs": [
    {
     "name": "stdout",
     "output_type": "stream",
     "text": [
      "<re.Match object; span=(0, 13), match='010-1234-5678'>\n",
      "010-1234-5678\n",
      "('010', '1234', '5678')\n",
      "('010', '1234', '5678')\n",
      "{'area': '010', 'exchange': '1234', 'number': '5678'}\n"
     ]
    }
   ],
   "source": [
    "#예제: 전화번호 매칭\n",
    "#010-1234-5678 \n",
    "\n",
    "#전화번호 패턴 만들기\n",
    "tel = re.compile(r\"\\d{2,3}-\\d{3,4}-\\d{4}\")\n",
    "\n",
    "#예제 전화번호가 패턴에 매치되는지 확인하기\n",
    "m = tel.match(\"010-1234-5678\")\n",
    "print(m)\n",
    "print(m.group())\n",
    "\n",
    "#그룹화\n",
    "tel = re.compile(r\"(\\d{2,3})-(\\d{3,4})-(\\d{4})\")\n",
    "m = tel.match(\"010-1234-5678\")\n",
    "print(m.groups())        #타입: 튜플\n",
    "\n",
    "#그룹화된 매칭객체에 키 붙여주기: ?P<(key명)>  *use with: .groupdict()\n",
    "tel = re.compile(r\"(?P<area>\\d{2,3})-(?P<exchange>\\d{3,4})-(?P<number>\\d{4})\")\n",
    "m = tel.match(\"010-1234-5678\")\n",
    "print(m.groups())      #타입: 튜플\n",
    "print(m.groupdict())   #타입: 딕셔너리"
   ]
  },
  {
   "cell_type": "code",
   "execution_count": 22,
   "metadata": {},
   "outputs": [
    {
     "name": "stdout",
     "output_type": "stream",
     "text": [
      "['hoong@hawlbin.org', 'lim@thieves.org', 'dooly@dooly.net', 'ggyul.apple@gmail.com']\n"
     ]
    }
   ],
   "source": [
    "#예제: 이메일 주소 추출\n",
    "\n",
    "source = \"\"\"\n",
    "예제 주소록\n",
    "이 문자열에서 이메일 주소만 추출해보기\n",
    "홍길동 hoong@hawlbin.org\n",
    "임꺽정 lim@thieves.org\n",
    "둘리 dooly@dooly.net\n",
    "뀰 ggyul.apple@gmail.com\n",
    "\"\"\"\n",
    "\n",
    "#이메일 패턴 만들기\n",
    "mail_pattern = r\"\\w+[\\.]*\\w*@\\w+[\\.]*\\.[a-z]+\"          \n",
    "\n",
    "emails = re.findall(mail_pattern, source)\n",
    "print(emails)"
   ]
  },
  {
   "cell_type": "markdown",
   "metadata": {},
   "source": [
    "# 수정하기: re.split(), re.sub()"
   ]
  },
  {
   "cell_type": "code",
   "execution_count": 24,
   "metadata": {},
   "outputs": [
    {
     "name": "stdout",
     "output_type": "stream",
     "text": [
      "Pattern Split:  ['사과', '오렌지', '바나나', '토마토', '수박']\n",
      "Pattern Sub:  사과, 오렌지, 바나나, 토마토, 수박\n"
     ]
    }
   ],
   "source": [
    "#str이 가진 split과 replace는 문자열 완전 매칭으로 제한된 기능만 수행한다.\n",
    "\n",
    "source = \"사과 오렌지: 바나나, 토마토|수박\"\n",
    "\n",
    "#패턴만들기\n",
    "pattern = r\"[ :|,]+\"    #분절기준문자: 공백, :, |, ,\n",
    "\n",
    "#나누기: re.split((패턴), (문자열))\n",
    "print(\"Pattern Split: \", re.split(pattern, source))    #타입: 리스트\n",
    "\n",
    "#치환하기: re.sub((패턴), (치환할 문자열), (대상문자열))\n",
    "#source 문자열 내의 pattern 매칭 문자열을 ,로 치환하기\n",
    "print(\"Pattern Sub: \", re.sub(pattern, \", \", source))   #타입: str"
   ]
  }
 ],
 "metadata": {
  "kernelspec": {
   "display_name": "Python 3",
   "language": "python",
   "name": "python3"
  },
  "language_info": {
   "codemirror_mode": {
    "name": "ipython",
    "version": 3
   },
   "file_extension": ".py",
   "mimetype": "text/x-python",
   "name": "python",
   "nbconvert_exporter": "python",
   "pygments_lexer": "ipython3",
   "version": "3.7.3"
  }
 },
 "nbformat": 4,
 "nbformat_minor": 4
}
